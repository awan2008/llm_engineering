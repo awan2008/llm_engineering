{
 "cells": [
  {
   "cell_type": "markdown",
   "id": "fe12c203-e6a6-452c-a655-afb8a03a4ff5",
   "metadata": {},
   "source": [
    "# End of week 1 exercise\n",
    "\n",
    "To demonstrate your familiarity with OpenAI API, and also Ollama, build a tool that takes a technical question,  \n",
    "and responds with an explanation. This is a tool that you will be able to use yourself during the course!"
   ]
  },
  {
   "cell_type": "code",
   "execution_count": 1,
   "id": "c1070317-3ed9-4659-abe3-828943230e03",
   "metadata": {},
   "outputs": [],
   "source": [
    "# imports\n",
    "import os\n",
    "import requests\n",
    "import json\n",
    "from typing import List\n",
    "from dotenv import load_dotenv\n",
    "from bs4 import BeautifulSoup\n",
    "from IPython.display import Markdown, display, update_display\n",
    "from openai import OpenAI"
   ]
  },
  {
   "cell_type": "code",
   "execution_count": 2,
   "id": "4a456906-915a-4bfd-bb9d-57e505c5093f",
   "metadata": {},
   "outputs": [
    {
     "name": "stdout",
     "output_type": "stream",
     "text": [
      "API key looks good so far\n"
     ]
    }
   ],
   "source": [
    "# constants and setup\n",
    "MODEL_GPT = 'gpt-4o-mini'\n",
    "load_dotenv(override=True)\n",
    "api_key = os.getenv('OPENAI_API_KEY')\n",
    "\n",
    "if api_key and api_key.startswith('sk-proj-') and len(api_key)>10:\n",
    "    print(\"API key looks good so far\")\n",
    "else:\n",
    "    print(\"There might be a problem with your API key? Please visit the troubleshooting notebook!\")\n",
    "    \n",
    "MODEL = 'gpt-4o-mini'\n",
    "openai = OpenAI()"
   ]
  },
  {
   "cell_type": "code",
   "execution_count": 3,
   "id": "3f0d0137-52b0-47a8-81a8-11a90a010798",
   "metadata": {},
   "outputs": [],
   "source": [
    "# here is the question; type over this to ask something new\n",
    "# example: yield from {book.get(\"author\") for book in books if book.get(\"author\")}\n"
   ]
  },
  {
   "cell_type": "code",
   "execution_count": 14,
   "id": "b955a44d-2568-45e1-bac7-654c40646c3a",
   "metadata": {},
   "outputs": [],
   "source": [
    "def constructUserPrompt(codeToExplain):\n",
    "    user_prompt = \"\"\"\n",
    "Please explain what this code does and why:\n",
    "\"\"\" + codeToExplain\n",
    "    return user_prompt"
   ]
  },
  {
   "cell_type": "code",
   "execution_count": 15,
   "id": "cc4d8f7f-e54e-4905-8dcb-d44793c62797",
   "metadata": {},
   "outputs": [],
   "source": [
    "def constructMessages(codeToExplain):\n",
    "    system_prompt =\"You are Steve Jobs and are good in explaining the code to someone new in programming.\"\n",
    "    user_prompt = constructUserPrompt(codeToExplain)\n",
    "    result = [\n",
    "        {\"role\": \"system\", \"content\": system_prompt},\n",
    "        {\"role\": \"user\", \"content\": user_prompt}\n",
    "    ]\n",
    "    return result"
   ]
  },
  {
   "cell_type": "code",
   "execution_count": 16,
   "id": "60ce7000-a4a5-4cce-a261-e75ef45063b4",
   "metadata": {},
   "outputs": [],
   "source": [
    "# Get gpt-4o-mini to answer, with streaming\n",
    "def explainThisCode(code):\n",
    "    stream = openai.chat.completions.create(\n",
    "        model=MODEL,\n",
    "        messages=constructMessages(code),\n",
    "        stream=True\n",
    "    )\n",
    "    response = \"\"\n",
    "    display_handle = display(Markdown(\"\"), display_id=True)\n",
    "    for chunk in stream:\n",
    "        response += chunk.choices[0].delta.content or ''\n",
    "        response = response.replace(\"```\",\"\").replace(\"markdown\", \"\")\n",
    "        update_display(Markdown(response), display_id=display_handle.display_id)\n",
    "    "
   ]
  },
  {
   "cell_type": "code",
   "execution_count": 17,
   "id": "a5c56122-cc54-4e8b-9c8d-f483029392f0",
   "metadata": {},
   "outputs": [
    {
     "data": {
      "text/markdown": [
       "Certainly! Let's break down the code snippet you've provided:\n",
       "\n",
       "python\n",
       "yield from {book.get(author) for book in books if book.get(author)}\n",
       "\n",
       "\n",
       "### Components of the Code\n",
       "\n",
       "1. **`yield from`**: \n",
       "   - This syntax is used in generator functions. When you use `yield from` followed by an iterable, it effectively delegates the yielding of values to that iterable. This means it will yield each item from the iterable one by one until it’s exhausted. \n",
       "\n",
       "2. **`{...}`**:\n",
       "   - The curly braces indicate that a set is being created. A set is a collection type in Python that contains unique elements. \n",
       "\n",
       "3. **`book.get(author)`**: \n",
       "   - This part is calling the `get` method on a dictionary called `book`. The method attempts to retrieve the value associated with the key `author`. If the key doesn’t exist, it returns `None` instead of raising an error.\n",
       "\n",
       "4. **`for book in books`**:\n",
       "   - This is a generator expression (or set comprehension in this case). It iterates over a collection called `books`, which is expected to be a list of dictionaries (where each dictionary represents a book).\n",
       "\n",
       "5. **`if book.get(author)`**: \n",
       "   - This condition filters the books. It checks if `book.get(author)` returns a truthy value (meaning it’s not `None` or an empty string). If the condition is met, it allows the author’s name to be included in the resulting set.\n",
       "\n",
       "### Putting It All Together\n",
       "\n",
       "1. **Purpose**: The entire expression is a generator that yields unique authors from a list of books, where each book is represented as a dictionary that may contain an `author` key.\n",
       "\n",
       "2. **Flow**:\n",
       "   - It goes through each `book` in the `books` collection.\n",
       "   - For each book, it checks if there is an associated author (i.e., the `author` field exists and is not `None`).\n",
       "   - If it's present, it retrieves the author and adds it to a set, ensuring that each author's name is unique.\n",
       "   - Finally, `yield from` is used to yield each unique author's name one at a time.\n",
       "\n",
       "### Why Use This?\n",
       "\n",
       "- **Efficiency**: By using a set, the code automatically filters out duplicate author names, which is especially useful when there are multiple books written by the same author.\n",
       "- **Readability**: The use of comprehensions makes it more concise and expressive compared to traditional loops.\n",
       "- **Lazy Evaluation**: Using a generator means that values are produced on-the-fly; they are not all stored in memory at once. This is valuable when dealing with large datasets.\n",
       "\n",
       "This code snippet leverages Python's powerful features to clean and extract data in a straightforward manner, making it easier to work with collections of data."
      ],
      "text/plain": [
       "<IPython.core.display.Markdown object>"
      ]
     },
     "metadata": {},
     "output_type": "display_data"
    }
   ],
   "source": [
    "explainThisCode(\"yield from {book.get(\"\"author\"\") for book in books if book.get(\"\"author\"\")}\");"
   ]
  },
  {
   "cell_type": "code",
   "execution_count": null,
   "id": "cd3c933e-0cd7-4fb1-8d37-9babd278ade3",
   "metadata": {},
   "outputs": [],
   "source": []
  }
 ],
 "metadata": {
  "kernelspec": {
   "display_name": "Python 3 (ipykernel)",
   "language": "python",
   "name": "python3"
  },
  "language_info": {
   "codemirror_mode": {
    "name": "ipython",
    "version": 3
   },
   "file_extension": ".py",
   "mimetype": "text/x-python",
   "name": "python",
   "nbconvert_exporter": "python",
   "pygments_lexer": "ipython3",
   "version": "3.11.13"
  }
 },
 "nbformat": 4,
 "nbformat_minor": 5
}
